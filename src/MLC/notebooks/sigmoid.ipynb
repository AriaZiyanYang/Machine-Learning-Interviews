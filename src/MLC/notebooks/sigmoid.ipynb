{
 "cells": [
  {
   "cell_type": "code",
   "execution_count": null,
   "id": "4173d05a",
   "metadata": {},
   "outputs": [],
   "source": [
    "import numpy as np\n",
    "def softmax(self, values):\n",
    "\texp_values = np.exp(values)\n",
    "\tsum_values = np.sum(exp_values)\n",
    "\treturn exp_values / sum_values"
   ]
  },
  {
   "cell_type": "code",
   "execution_count": null,
   "id": "e085dc74",
   "metadata": {},
   "outputs": [],
   "source": [
    "def sigmoid(self, x):\n",
    "\tres = 1/(1 + np.exp(-x))\n",
    "\treturn res"
   ]
  }
 ],
 "metadata": {
  "language_info": {
   "name": "python"
  }
 },
 "nbformat": 4,
 "nbformat_minor": 5
}
