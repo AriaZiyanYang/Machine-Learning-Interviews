{
 "cells": [
  {
   "cell_type": "code",
   "execution_count": 1,
   "id": "4173d05a",
   "metadata": {},
   "outputs": [],
   "source": [
    "import numpy as np\n",
    "\n",
    "class ActivationFunctions:\n",
    "    \"\"\"激活函数类\"\"\"\n",
    "    \n",
    "    @staticmethod\n",
    "    def sigmoid(self, x):\n",
    "        \"\"\"Sigmoid激活函数\"\"\"\n",
    "        res = 1/(1 + np.exp(-x))\n",
    "        return res\n",
    "    \n",
    "    @staticmethod\n",
    "    def softmax(self, values):\n",
    "        \"\"\"Softmax激活函数\"\"\"\n",
    "        exp_values = np.exp(values)\n",
    "        sum_values = np.sum(exp_values)\n",
    "        return exp_values / sum_values"
   ]
  },
  {
   "cell_type": "code",
   "execution_count": 7,
   "id": "e085dc74",
   "metadata": {},
   "outputs": [],
   "source": [
    "class LossFunctions:\n",
    "    \"\"\"损失函数类\"\"\"\n",
    "    \n",
    "    @staticmethod\n",
    "    def compute_loss_multiclass(Y, Y_hat):\n",
    "        \"\"\"\n",
    "        多分类交叉熵损失 (Cross-Entropy for Multi-class Classification)\n",
    "        \n",
    "        参数:\n",
    "        - Y: shape = (m,)  每个样本的真实类别（整数标签，如 0,1,2,...）\n",
    "        - Y_hat: shape = (m, num_classes) 每个样本对各类别的预测概率（经过softmax）\n",
    "        \n",
    "        返回:\n",
    "        - loss: float 平均交叉熵损失\n",
    "        \"\"\"\n",
    "        m = Y.shape[0]                       # 样本数\n",
    "        log_likelihood = -np.log(Y_hat[range(m), Y])  # 取出真实类别的预测概率并取对数\n",
    "        loss = np.sum(log_likelihood) / m             # 平均损失\n",
    "        return loss\n",
    "    \n",
    "    @staticmethod\n",
    "    def compute_loss_binary(Y, Y_hat):\n",
    "        \"\"\"\n",
    "        二分类交叉熵损失 (Binary Cross-Entropy Loss)\n",
    "        \n",
    "        参数:\n",
    "        - Y: shape = (m,)  每个样本的真实标签（0或1）\n",
    "        - Y_hat: shape = (m,) 每个样本预测为正类(1)的概率（通常sigmoid输出）\n",
    "        \n",
    "        返回:\n",
    "        - loss: float 平均交叉熵损失\n",
    "        \"\"\"\n",
    "        # 避免log(0)，加上一个极小值epsilon\n",
    "        # eps = 1e-15\n",
    "        # Y_hat = np.clip(Y_hat, eps, 1 - eps)\n",
    "        loss = -np.mean(Y * np.log(Y_hat) + (1 - Y) * np.log(1 - Y_hat))\n",
    "        return loss"
   ]
  },
  {
   "cell_type": "code",
   "execution_count": 3,
   "id": "9d13aa6c",
   "metadata": {},
   "outputs": [
    {
     "name": "stdout",
     "output_type": "stream",
     "text": [
      "🔹Multi-class Cross Entropy Loss: 0.4243218919376292\n"
     ]
    }
   ],
   "source": [
    "# 🧪 测试多分类损失函数\n",
    "Y = np.array([0, 1, 2])   # 三个样本，真实标签分别是类别0、1、2\n",
    "Y_hat = np.array([\n",
    "    [0.7, 0.2, 0.1],      # 对第一个样本的预测\n",
    "    [0.1, 0.8, 0.1],      # 第二个样本\n",
    "    [0.2, 0.3, 0.5]       # 第三个样本\n",
    "])\n",
    "\n",
    "loss_multi = LossFunctions.compute_loss_multiclass(Y, Y_hat)\n",
    "print(\"🔹Multi-class Cross Entropy Loss:\", loss_multi)"
   ]
  },
  {
   "cell_type": "code",
   "execution_count": 4,
   "id": "3dc83bc2",
   "metadata": {},
   "outputs": [
    {
     "name": "stdout",
     "output_type": "stream",
     "text": [
      "🔹Binary Cross Entropy Loss: 0.16425203348601802\n"
     ]
    }
   ],
   "source": [
    "# 🧪 测试二分类损失函数\n",
    "Y_binary = np.array([1, 0, 1, 0])        # 真实标签\n",
    "Y_hat_binary = np.array([0.9, 0.2, 0.8, 0.1])  # 模型预测概率(sigmoid输出)\n",
    "\n",
    "loss_binary = LossFunctions.compute_loss_binary(Y_binary, Y_hat_binary)\n",
    "print(\"🔹Binary Cross Entropy Loss:\", loss_binary)"
   ]
  },
  {
   "cell_type": "code",
   "execution_count": 5,
   "id": "46629610",
   "metadata": {},
   "outputs": [
    {
     "name": "stdout",
     "output_type": "stream",
     "text": [
      "🔹测试激活函数:\n",
      "Sigmoid([1 2 3]) = [0.73105858 0.88079708 0.95257413]\n",
      "Softmax([1 2 3]) = [0.09003057 0.24472847 0.66524096]\n",
      "Softmax概率和: 1.0\n"
     ]
    }
   ],
   "source": [
    "# 🧪 测试激活函数\n",
    "print(\"🔹测试激活函数:\")\n",
    "x = np.array([1, 2, 3])\n",
    "sigmoid_output = ActivationFunctions.sigmoid(None, x)\n",
    "softmax_output = ActivationFunctions.softmax(None, x)\n",
    "\n",
    "print(f\"Sigmoid({x}) = {sigmoid_output}\")\n",
    "print(f\"Softmax({x}) = {softmax_output}\")\n",
    "print(f\"Softmax概率和: {np.sum(softmax_output)}\")  # 应该等于1"
   ]
  },
  {
   "cell_type": "code",
   "execution_count": 6,
   "id": "65f483f0",
   "metadata": {},
   "outputs": [
    {
     "name": "stdout",
     "output_type": "stream",
     "text": [
      "\n",
      "📚 类结构总结:\n",
      "1. ActivationFunctions 类:\n",
      "   - sigmoid(): 二分类激活函数\n",
      "   - softmax(): 多分类激活函数\n",
      "\n",
      "2. LossFunctions 类:\n",
      "   - compute_loss_binary(): 二分类交叉熵损失\n",
      "   - compute_loss_multiclass(): 多分类交叉熵损失\n",
      "\n",
      "✅ 现在所有函数都组织在类中，使用更加规范！\n"
     ]
    }
   ],
   "source": [
    "# 📚 使用示例总结\n",
    "print(\"\\n📚 类结构总结:\")\n",
    "print(\"1. ActivationFunctions 类:\")\n",
    "print(\"   - sigmoid(): 二分类激活函数\")\n",
    "print(\"   - softmax(): 多分类激活函数\")\n",
    "print(\"\\n2. LossFunctions 类:\")\n",
    "print(\"   - compute_loss_binary(): 二分类交叉熵损失\")\n",
    "print(\"   - compute_loss_multiclass(): 多分类交叉熵损失\")\n",
    "print(\"\\n✅ 现在所有函数都组织在类中，使用更加规范！\")"
   ]
  }
 ],
 "metadata": {
  "kernelspec": {
   "display_name": "cyclegan",
   "language": "python",
   "name": "python3"
  },
  "language_info": {
   "codemirror_mode": {
    "name": "ipython",
    "version": 3
   },
   "file_extension": ".py",
   "mimetype": "text/x-python",
   "name": "python",
   "nbconvert_exporter": "python",
   "pygments_lexer": "ipython3",
   "version": "3.8.20"
  }
 },
 "nbformat": 4,
 "nbformat_minor": 5
}
