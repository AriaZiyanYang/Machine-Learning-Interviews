{
 "cells": [
  {
   "cell_type": "code",
   "execution_count": 1,
   "id": "3bc487fd",
   "metadata": {},
   "outputs": [],
   "source": [
    "import numpy as np\n",
    "# Function to build simple embeddings\n",
    "def build_embeddings(word):\n",
    "    return np.random.rand(4)\n",
    "# Example sentence\n",
    "sentence = \"In this tutorial I will show you how to build embeddings and the self attention mechanism.\"\n",
    "# Splitting the sentence into words\n",
    "words = sentence.split()\n",
    "# Generating embeddings for each word\n",
    "embeddings = [build_embeddings(word) for word in words]"
   ]
  },
  {
   "cell_type": "code",
   "execution_count": 2,
   "id": "ad976832",
   "metadata": {},
   "outputs": [],
   "source": [
    "# Simplified softmax function\n",
    "def softmax(x):\n",
    "    return np.exp(x) / np.sum(np.exp(x), axis=0)"
   ]
  },
  {
   "cell_type": "code",
   "execution_count": 3,
   "id": "4191c702",
   "metadata": {},
   "outputs": [],
   "source": [
    "# Simplified self-attention mechanism\n",
    "def self_attention(embeddings):\n",
    "    # Building Q, K, V\n",
    "    Q = np.array(embeddings)\n",
    "    K = np.array(embeddings)\n",
    "    V = np.array(embeddings)\n",
    "    # Calculating the attention scores\n",
    "    scores = np.dot(Q, K.T)\n",
    "    # Applying softmax function to get the attention weights\n",
    "    attention_weights = softmax(scores)\n",
    "    # Measuring the weighted values\n",
    "    weighted_values = np.dot(attention_weights, V)\n",
    "    return attention_weights, weighted_values\n",
    "# Running self-attention\n",
    "attention_weights, weighted_values = self_attention(embeddings)"
   ]
  },
  {
   "cell_type": "code",
   "execution_count": null,
   "id": "89e43eae",
   "metadata": {},
   "outputs": [],
   "source": [
    "print(\"Attention weights:\", attention_weights)\n",
    "print(\"Weighted values:\", weighted_values)"
   ]
  }
 ],
 "metadata": {
  "kernelspec": {
   "display_name": "cyclegan",
   "language": "python",
   "name": "python3"
  },
  "language_info": {
   "codemirror_mode": {
    "name": "ipython",
    "version": 3
   },
   "file_extension": ".py",
   "mimetype": "text/x-python",
   "name": "python",
   "nbconvert_exporter": "python",
   "pygments_lexer": "ipython3",
   "version": "3.8.20"
  }
 },
 "nbformat": 4,
 "nbformat_minor": 5
}
