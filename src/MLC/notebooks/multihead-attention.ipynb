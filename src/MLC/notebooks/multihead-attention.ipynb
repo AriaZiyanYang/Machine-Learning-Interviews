{
 "cells": [
  {
   "cell_type": "code",
   "execution_count": 28,
   "id": "7d17f295",
   "metadata": {},
   "outputs": [],
   "source": [
    "import torch\n",
    "import torch.nn as nn\n",
    "import torch.nn.functional as F\n",
    "import math\n",
    "import numpy as np"
   ]
  },
  {
   "cell_type": "markdown",
   "id": "856ae0cd",
   "metadata": {},
   "source": [
    "# Multi-Head Attention Implementation\n",
    "\n",
    "## Step 2: Scaled Dot-Product Attention Function\n",
    "\n",
    "This is the core of self-attention:\n",
    "\n",
    "**Attention(Q, K, V) = softmax((QK^T) / √d_k) V**\n",
    "\n",
    "Where:\n",
    "- **Q, K, V** are queries, keys, values derived from the same source in self-attention\n",
    "- **Results in values**: the weighted sum for each position and head\n",
    "- **Softmax ensures** the attention weights sum to 1\n",
    "- **If masking**: irrelevant positions (like future tokens or padding) get large negative values in logits, so after softmax attention there is 0\n"
   ]
  },
  {
   "cell_type": "code",
   "execution_count": 29,
   "id": "0d7e0cc4",
   "metadata": {},
   "outputs": [],
   "source": [
    "class MultiheadAttention(nn.Module):\n",
    "    def __init__(self, input_dim, d_model, num_heads):\n",
    "        super().__init__()\n",
    "        self.input_dim = input_dim # input embedding size\n",
    "        self.d_model = d_model # output embedding size\n",
    "        self.num_heads = num_heads # number of attention heads\n",
    "        self.head_dim = d_model // num_heads # size for the single head\n",
    "\t\t# computer q,k,v using a single linear layer\n",
    "        self.qkv_layer = nn.Linear(input_dim, d_model * 3)\n",
    "\t\t# final layer\n",
    "        self.linear_layer = nn.Linear(d_model, d_model) \n",
    "    def dot_product(self, q, k, v, mask = None):\n",
    "        d_k = q.size()[-1]\t\n",
    "        # compute the square root of d_k\n",
    "        scaled = torch.matmul(q, k.transpose(-1, -2)) / math.sqrt(d_k)\n",
    "        if mask is not None:\n",
    "            scaled += mask\n",
    "        attention_mat = F.softmax(scaled, dim = -1)\n",
    "        values = torch.matmul(attention_mat, v)\n",
    "        return values, attention_mat\n",
    "        \n",
    "    def softmax(self, values):\n",
    "        exp_values = np.exp(values)\n",
    "        sum_values = np.sum(exp_values)\n",
    "        return exp_values / sum_values\n",
    "\n",
    "    # Every step mimics the original Transformer:\n",
    "    # Project to QKV,\n",
    "    # Reshape for multiple heads,\n",
    "    # Split into Q, K, V,\n",
    "    # Compute attention,\n",
    "    # Concatenate heads,\n",
    "    # Linear output.\n",
    "    def forward(self, x, mask = None):\n",
    "        batch_size, sequence_length, input_dim = x.size()\n",
    "\t\t# Step 1: Project x into concatenated q, k, v for ALL heads at once\n",
    "        qkv = self.qkv_layer(x)\n",
    "        qkv = qkv.reshape(batch_size, sequence_length, self.num_heads, self.head_dim * 3)\n",
    "\t\t# permute\n",
    "        qkv = qkv.permute(0, 2, 1, 3)\n",
    "        q, k, v = qkv.chunk(3, dim = -1)\n",
    "\t\t# compute attention\n",
    "        values, attention_mat = self.dot_product(q, k, v, mask)\n",
    "        values = values.reshape(batch_size, sequence_length, self.num_heads * self.head_dim)\n",
    "        out = self.linear_layer(values)\n",
    "        return out, attention_mat\n"
   ]
  },
  {
   "cell_type": "code",
   "execution_count": 30,
   "id": "64cf94de",
   "metadata": {},
   "outputs": [
    {
     "name": "stdout",
     "output_type": "stream",
     "text": [
      "Output attention shape: torch.Size([2, 5, 32])\n",
      "Attention matrix shape: torch.Size([2, 4, 5, 5])\n"
     ]
    }
   ],
   "source": [
    "# ======================\n",
    "# ✅ Test Case\n",
    "# ======================\n",
    "batch_size = 2\n",
    "sequence_length = 5\n",
    "input_dim = 16\n",
    "d_model = 32\n",
    "num_heads = 4\n",
    "\n",
    "x = torch.randn((batch_size, sequence_length, input_dim))\n",
    "model = MultiheadAttention(input_dim, d_model, num_heads)\n",
    "output, attn = model.forward(x)\n",
    "\n",
    "print(\"Output attention shape:\", output.shape)       # torch.Size([2, 5, 32])\n",
    "print(\"Attention matrix shape:\", attn.shape)  # torch.Size([2, 4, 5, 5])"
   ]
  }
 ],
 "metadata": {
  "kernelspec": {
   "display_name": "cyclegan",
   "language": "python",
   "name": "python3"
  },
  "language_info": {
   "codemirror_mode": {
    "name": "ipython",
    "version": 3
   },
   "file_extension": ".py",
   "mimetype": "text/x-python",
   "name": "python",
   "nbconvert_exporter": "python",
   "pygments_lexer": "ipython3",
   "version": "3.8.20"
  }
 },
 "nbformat": 4,
 "nbformat_minor": 5
}
