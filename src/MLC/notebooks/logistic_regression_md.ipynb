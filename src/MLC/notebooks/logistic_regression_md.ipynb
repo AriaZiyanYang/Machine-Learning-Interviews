{
 "cells": [
  {
   "cell_type": "markdown",
   "metadata": {},
   "source": [
    "## logistic regression multi-dimensional data"
   ]
  },
  {
   "cell_type": "markdown",
   "metadata": {},
   "source": [
    " logistic regression multi-dimensional data\n",
    " \n",
    " \n",
    " $$ F(X)=X \\times W $$\n",
    " $$ H(x)= \\frac{1}{1+ e ^{-F(x)}} $$\n",
    " $$ C= -\\frac{1}{n} \\sum_{i,j} (Y \\odot log(H(x)) + (1-Y) \\odot log(1-H(x)) ) $$\n",
    "\n",
    "$X_{n \\times k}$\n",
    "\n",
    "$W_{k \\times p}$\n",
    "\n",
    "$Y_{n \\times p}$"
   ]
  },
  {
   "cell_type": "code",
   "execution_count": 1,
   "metadata": {},
   "outputs": [],
   "source": [
    "import numpy as np  # 导入numpy库，用于数值计算 / Import numpy library for numerical computations\n",
    "import random  # 导入random库，用于随机数生成 / Import random library for random number generation"
   ]
  },
  {
   "cell_type": "code",
   "execution_count": 2,
   "metadata": {},
   "outputs": [],
   "source": [
    "n, k, p=100, 8, 3  # 定义数据维度：n=样本数，k=特征数，p=类别数 / Define data dimensions: n=samples, k=features, p=classes"
   ]
  },
  {
   "cell_type": "code",
   "execution_count": 3,
   "metadata": {},
   "outputs": [],
   "source": [
    "X=np.random.random([n,k])  # 生成随机特征矩阵，形状为(n,k) / Generate random feature matrix with shape (n,k)\n",
    "W=np.random.random([k,p])  # 初始化权重矩阵，形状为(k,p) / Initialize weight matrix with shape (k,p)\n",
    "\n",
    "y=np.random.randint(p, size=n)  # 生成随机标签，形状为(n,) / Generate random labels with shape (n,)\n",
    "Y=np.zeros((n,p))  # 创建one-hot编码矩阵，形状为(n,p) / Create one-hot encoding matrix with shape (n,p)\n",
    "Y[np.arange(n), y]=1  # 将标签转换为one-hot编码 / Convert labels to one-hot encoding\n",
    "\n",
    "max_itr=5000  # 最大迭代次数 / Maximum number of iterations\n",
    "alpha=0.01  # 学习率 / Learning rate\n",
    "Lambda=0.01  # 正则化参数 / Regularization parameter"
   ]
  },
  {
   "cell_type": "markdown",
   "metadata": {},
   "source": [
    "Gradient is as follows:\n",
    "$$ X^T (H(x)-Y) + \\lambda 2 W$$"
   ]
  },
  {
   "cell_type": "code",
   "execution_count": 4,
   "metadata": {},
   "outputs": [],
   "source": [
    "# F(x)= w[0]*x + w[1]  # 线性变换函数 / Linear transformation function\n",
    "def F(X, W):\n",
    "    return np.matmul(X,W)  # 计算线性组合：X*W / Compute linear combination: X*W\n",
    "\n",
    "def H(F):\n",
    "    return 1/(1+np.exp(-F))  # sigmoid激活函数 / sigmoid activation function\n",
    "\n",
    "def cost(Y_est, Y):\n",
    "    # 计算交叉熵损失 + L2正则化 / Compute cross-entropy loss + L2 regularization\n",
    "    E= - (1/n) * (np.sum(Y*np.log(Y_est) + (1-Y)*np.log(1-Y_est)))  + Lambda * np.linalg.norm(W,2)\n",
    "    return E, np.sum(np.argmax(Y_est,1)==y)/n  # 返回损失和准确率 / Return loss and accuracy\n",
    "\n",
    "def gradient(Y_est, Y, X):\n",
    "    # 计算梯度：数据项 + 正则化项 / Compute gradient: data term + regularization term\n",
    "    return (1/n) * np.matmul(X.T, (Y_est - Y) ) + Lambda * W"
   ]
  },
  {
   "cell_type": "code",
   "execution_count": 5,
   "metadata": {},
   "outputs": [],
   "source": [
    "def fit(W, X, Y, alpha, max_itr):  # 训练函数 / Training function\n",
    "    for i in range(max_itr):  # 迭代训练 / Iterative training\n",
    "        \n",
    "        F_x=F(X,W)  # 计算线性变换 / Compute linear transformation\n",
    "        Y_est=H(F_x)  # 应用sigmoid激活 / Apply sigmoid activation\n",
    "        E, c= cost(Y_est, Y)  # 计算损失和准确率 / Compute loss and accuracy\n",
    "        Wg=gradient(Y_est, Y, X)  # 计算梯度 / Compute gradient\n",
    "        W=W - alpha * Wg  # 更新权重 / Update weights\n",
    "        if i%1000==0:  # 每1000次迭代打印一次 / Print every 1000 iterations\n",
    "            print(E, c)  # 打印损失和准确率 / Print loss and accuracy\n",
    "        \n",
    "    return W, Y_est  # 返回训练后的权重和预测结果 / Return trained weights and predictions"
   ]
  },
  {
   "cell_type": "markdown",
   "metadata": {},
   "source": [
    "To take into account for the biases, we concatenate X by a 1 column, and increase the number of rows in W by one"
   ]
  },
  {
   "cell_type": "code",
   "execution_count": 6,
   "metadata": {},
   "outputs": [
    {
     "name": "stdout",
     "output_type": "stream",
     "text": [
      "4.9567403100766345 0.38\n",
      "1.9038314476848 0.47\n",
      "1.8697051475836861 0.47\n",
      "1.8455193283395868 0.52\n",
      "1.8281890508195582 0.51\n"
     ]
    }
   ],
   "source": [
    "X=np.concatenate( (X, np.ones((n,1))), axis=1 )  # 添加偏置项：在X末尾添加一列1 / Add bias term: append column of 1s to X\n",
    "W=np.concatenate( (W, np.random.random((1,p)) ), axis=0 )  # 添加偏置权重：在W末尾添加一行随机权重 / Add bias weights: append row of random weights to W\n",
    "\n",
    "W, Y_est = fit(W, X, Y, alpha, max_itr)  # 开始训练模型 / Start training the model"
   ]
  }
 ],
 "metadata": {
  "kernelspec": {
   "display_name": "cyclegan",
   "language": "python",
   "name": "python3"
  },
  "language_info": {
   "codemirror_mode": {
    "name": "ipython",
    "version": 3
   },
   "file_extension": ".py",
   "mimetype": "text/x-python",
   "name": "python",
   "nbconvert_exporter": "python",
   "pygments_lexer": "ipython3",
   "version": "3.8.20"
  }
 },
 "nbformat": 4,
 "nbformat_minor": 4
}
