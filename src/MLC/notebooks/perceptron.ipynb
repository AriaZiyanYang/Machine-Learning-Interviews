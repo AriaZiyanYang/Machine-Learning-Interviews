{
 "cells": [
  {
   "attachments": {},
   "cell_type": "markdown",
   "metadata": {},
   "source": [
    "The perceptron algorithm is a type of linear classification algorithm used to classify data into two categories. It is a simple algorithm that learns from the mistakes made during the classification process and adjusts the weights of the input features to improve the accuracy of the classification. \n",
    "\n",
    "感知机算法是一种线性分类算法，用于将数据分为两个类别。它是一个简单的算法，从分类过程中的错误中学习，并调整输入特征的权重以提高分类的准确性。\n",
    "\n",
    "```python \n",
    "# 预测公式 / Prediction formula\n",
    "y_pred = sign(w0 + w1*x1 + w2*x2 + ... + wn*xn)  # 符号函数：净输入的符号 / Sign function: sign of net input\n",
    "\n",
    "# 权重更新规则 / Weight update rule  \n",
    "wi = wi + learning_rate * (target - y_pred) * xi  # 感知机更新规则 / Perceptron update rule\n",
    "```\n",
    "\n",
    "Here is an implementation of the perceptron algorithm in Python:\n",
    "以下是感知机算法的Python实现："
   ]
  },
  {
   "cell_type": "code",
   "execution_count": null,
   "metadata": {},
   "outputs": [],
   "source": [
    "import numpy as np  # 导入numpy库用于数值计算 / Import numpy library for numerical computations\n",
    "\n",
    "class Perceptron:  # 定义感知机类 / Define Perceptron class\n",
    "    def __init__(self, lr=0.01, n_iter=100):  # 初始化方法，设置学习率和迭代次数 / Initialization method, set learning rate and iterations\n",
    "        self.lr = lr  # 学习率，控制权重更新的步长 / Learning rate, controls the step size of weight updates\n",
    "        self.n_iter = n_iter  # 训练迭代次数 / Number of training iterations\n",
    "\n",
    "    def fit(self, X, y):  # 训练方法，输入特征矩阵X和标签y / Training method, input feature matrix X and labels y\n",
    "        self.weights = np.zeros(1 + X.shape[1])  # 初始化权重向量，包含偏置项 / Initialize weight vector including bias term\n",
    "        self.errors = []  # 记录每个epoch的错误数 / Record errors for each epoch\n",
    "\n",
    "        for _ in range(self.n_iter):  # 外层循环：训练迭代 / Outer loop: training iterations\n",
    "            errors = 0  # 当前epoch的错误计数 / Error count for current epoch\n",
    "            for xi, target in zip(X, y):  # 内层循环：遍历每个训练样本 / Inner loop: iterate through each training sample\n",
    "                # 计算当前权重下的预测 / Calculate prediction with current weights\n",
    "                prediction = self.predict(xi)\n",
    "                # 只有当预测错误时才更新权重 / Only update weights when prediction is wrong\n",
    "                if prediction != target:  # 如果预测错误 / If prediction is incorrect\n",
    "                    update = self.lr * target  # 感知机更新规则：w = w + lr * target * x / Perceptron update rule: w = w + lr * target * x\n",
    "                    self.weights[1:] += update * xi  # 更新特征权重 / Update feature weights\n",
    "                    self.weights[0] += update  # 更新偏置项 / Update bias term\n",
    "                    errors += 1  # 错误计数加1 / Increment error count\n",
    "            self.errors.append(errors)  # 记录当前epoch的错误数 / Record errors for current epoch\n",
    "        return self  # 返回训练好的模型 / Return trained model\n",
    "\n",
    "    def net_input(self, X):  # 计算净输入（加权和） / Calculate net input (weighted sum)\n",
    "        return np.dot(X, self.weights[1:]) + self.weights[0]  # w1*x1 + w2*x2 + ... + wn*xn + bias / w1*x1 + w2*x2 + ... + wn*xn + bias\n",
    "\n",
    "    def predict(self, X):  # 预测方法 / Prediction method\n",
    "        return np.where(self.net_input(X) >= 0.0, 1, -1)  # 符号函数：净输入>=0输出1，否则输出-1 / Sign function: output 1 if net input >= 0, otherwise -1\n"
   ]
  },
  {
   "attachments": {},
   "cell_type": "markdown",
   "metadata": {},
   "source": [
    "The Perceptron class has the following methods:\n",
    "感知机类包含以下方法：\n",
    "\n",
    "**__init__(self, lr=0.01, n_iter=100)**: Initializes the perceptron with a learning rate (lr) and number of iterations (n_iter) to perform during training.\n",
    "**__init__(self, lr=0.01, n_iter=100)**: 初始化感知机，设置学习率(lr)和训练迭代次数(n_iter)。\n",
    "\n",
    "**fit(self, X, y)**: Trains the perceptron on the input data X and target labels y. The method initializes the weights to zero and iterates through the data n_iter times. The key insight is that weights are only updated when there's a misclassification, following the standard perceptron update rule: w = w + lr * target * x.\n",
    "**fit(self, X, y)**: 在输入数据X和目标标签y上训练感知机。该方法将权重初始化为零，并遍历数据n_iter次。关键洞察是权重只在分类错误时更新，遵循标准感知机更新规则：w = w + lr * target * x。\n",
    "\n",
    "**net_input(self, X)**: Computes the weighted sum of inputs and bias.\n",
    "**net_input(self, X)**: 计算输入和偏置的加权和。\n",
    "\n",
    "**predict(self, X)**: Predicts the class label for a given input X based on the current weights.\n",
    "**predict(self, X)**: 基于当前权重预测给定输入X的类别标签。\n",
    "\n",
    "**Important Notes:**\n",
    "**重要注意事项：**\n",
    "- The perceptron algorithm only works for linearly separable data\n",
    "- 感知机算法只适用于线性可分数据\n",
    "- The algorithm is guaranteed to converge if the data is linearly separable\n",
    "- 如果数据线性可分，算法保证收敛\n",
    "- The learning rate controls how much the weights change with each update\n",
    "- 学习率控制每次更新时权重的变化量\n",
    "\n",
    "To use the perceptron algorithm, you can create an instance of the Perceptron class, and then call the fit method with your input data X and target labels y. Here is an example usage:\n",
    "要使用感知机算法，您可以创建Perceptron类的实例，然后使用输入数据X和目标标签y调用fit方法。以下是使用示例："
   ]
  },
  {
   "cell_type": "code",
   "execution_count": null,
   "metadata": {},
   "outputs": [
    {
     "data": {
      "text/plain": [
       "array([-1,  1])"
      ]
     },
     "execution_count": 3,
     "metadata": {},
     "output_type": "execute_result"
    }
   ],
   "source": [
    "# 创建训练数据集 / Create training dataset\n",
    "X = np.array([[2.0, 1.0], [3.0, 4.0], [4.0, 2.0], [3.0, 1.0]])  # 特征矩阵：4个样本，每个样本2个特征 / Feature matrix: 4 samples, 2 features each\n",
    "y = np.array([-1, 1, 1, -1])  # 标签向量：-1表示负类，1表示正类 / Label vector: -1 for negative class, 1 for positive class\n",
    "\n",
    "# 创建感知机实例 / Create perceptron instance\n",
    "perceptron = Perceptron()  # 使用默认参数：学习率0.01，迭代100次 / Use default parameters: learning rate 0.01, 100 iterations\n",
    "\n",
    "# 训练模型 / Train the model\n",
    "perceptron.fit(X, y)  # 在训练数据上拟合感知机 / Fit perceptron on training data\n",
    "\n",
    "# 创建测试数据 / Create test data\n",
    "new_X = np.array([[5.0, 2.0], [1.0, 3.0]])  # 测试样本：2个新样本 / Test samples: 2 new samples\n",
    "\n",
    "# 进行预测 / Make predictions\n",
    "perceptron.predict(new_X)  # 预测新样本的类别 / Predict classes for new samples\n",
    "\n"
   ]
  },
  {
   "cell_type": "code",
   "execution_count": null,
   "metadata": {},
   "outputs": [],
   "source": [
    "# 测试修复后的感知机算法 / Test the fixed perceptron algorithm\n",
    "import matplotlib.pyplot as plt  # 导入绘图库 / Import plotting library\n",
    "\n",
    "# 创建线性可分的数据集 / Create linearly separable dataset\n",
    "np.random.seed(42)  # 设置随机种子确保结果可重现 / Set random seed for reproducible results\n",
    "X = np.array([[2.0, 1.0], [3.0, 4.0], [4.0, 2.0], [3.0, 1.0], [1.0, 1.0], [2.0, 3.0]])  # 6个训练样本，每个2个特征 / 6 training samples, 2 features each\n",
    "y = np.array([-1, 1, 1, -1, -1, 1])  # 对应的标签 / Corresponding labels\n",
    "\n",
    "# 训练感知机 / Train perceptron\n",
    "perceptron = Perceptron(lr=0.1, n_iter=10)  # 创建感知机：学习率0.1，迭代10次 / Create perceptron: learning rate 0.1, 10 iterations\n",
    "perceptron.fit(X, y)  # 训练模型 / Train the model\n",
    "\n",
    "# 打印训练过程中的错误数 / Print errors during training\n",
    "print(\"训练过程中的错误数:\", perceptron.errors)  # 显示每个epoch的错误数 / Show errors for each epoch\n",
    "print(\"最终权重:\", perceptron.weights)  # 显示最终学习到的权重 / Show final learned weights\n",
    "\n",
    "# 测试预测 / Test predictions\n",
    "test_X = np.array([[5.0, 2.0], [1.0, 3.0], [0.5, 0.5]])  # 3个测试样本 / 3 test samples\n",
    "predictions = perceptron.predict(test_X)  # 对新样本进行预测 / Make predictions on new samples\n",
    "print(\"测试预测结果:\", predictions)  # 显示预测结果 / Show prediction results\n",
    "\n",
    "# 可视化决策边界（简单2D情况） / Visualize decision boundary (simple 2D case)\n",
    "if X.shape[1] == 2:  # 只对2维数据进行可视化 / Only visualize for 2D data\n",
    "    plt.figure(figsize=(8, 6))  # 设置图形大小 / Set figure size\n",
    "    \n",
    "    # 绘制数据点 / Plot data points\n",
    "    colors = ['red' if label == -1 else 'blue' for label in y]  # 根据标签设置颜色：红色表示-1，蓝色表示1 / Set colors by label: red for -1, blue for 1\n",
    "    plt.scatter(X[:, 0], X[:, 1], c=colors, s=100, alpha=0.7)  # 绘制散点图 / Plot scatter points\n",
    "    \n",
    "    # 绘制决策边界 / Plot decision boundary\n",
    "    if perceptron.weights[1] != 0:  # 避免除零错误 / Avoid division by zero\n",
    "        x1_min, x1_max = X[:, 0].min() - 1, X[:, 0].max() + 1  # 计算x1的范围 / Calculate x1 range\n",
    "        x2_boundary = -(perceptron.weights[0] + perceptron.weights[1] * np.array([x1_min, x1_max])) / perceptron.weights[2]  # 计算决策边界线 / Calculate decision boundary line\n",
    "        plt.plot([x1_min, x1_max], x2_boundary, 'k--', linewidth=2, label='决策边界')  # 绘制决策边界线 / Plot decision boundary line\n",
    "    \n",
    "    plt.xlabel('X1')  # x轴标签 / X-axis label\n",
    "    plt.ylabel('X2')  # y轴标签 / Y-axis label\n",
    "    plt.title('感知机分类结果')  # 图形标题 / Figure title\n",
    "    plt.legend()  # 显示图例 / Show legend\n",
    "    plt.grid(True, alpha=0.3)  # 显示网格 / Show grid\n",
    "    plt.show()  # 显示图形 / Display the plot\n"
   ]
  }
 ],
 "metadata": {
  "kernelspec": {
   "display_name": "Python 3",
   "language": "python",
   "name": "python3"
  },
  "language_info": {
   "codemirror_mode": {
    "name": "ipython",
    "version": 3
   },
   "file_extension": ".py",
   "mimetype": "text/x-python",
   "name": "python",
   "nbconvert_exporter": "python",
   "pygments_lexer": "ipython3",
   "version": "3.9.7"
  },
  "orig_nbformat": 4
 },
 "nbformat": 4,
 "nbformat_minor": 2
}
