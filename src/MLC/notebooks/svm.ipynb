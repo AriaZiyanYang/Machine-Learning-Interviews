{
 "cells": [
  {
   "attachments": {},
   "cell_type": "markdown",
   "metadata": {},
   "source": [
    "# Support Vector Machines (SVMs)\n",
    "\n",
    "Support Vector Machines (SVMs) are a type of machine learning algorithm used for classification and regression analysis. In particular, linear SVMs are used for binary classification problems where the goal is to separate two classes by a hyperplane.\n",
    "\n",
    "The hyperplane is a line that divides the feature space into two regions. The SVM algorithm tries to find the hyperplane that maximizes the margin, which is the distance between the hyperplane and the closest points from each class. The points closest to the hyperplane are called support vectors and play a crucial role in the algorithm's optimization process.\n",
    "\n",
    "In linear SVMs, the hyperplane is defined by a linear function of the input features. The algorithm tries to find the optimal values of the coefficients of this function, called weights, that maximize the margin. This optimization problem can be formulated as a quadratic programming problem, which can be efficiently solved using standard optimization techniques.\n",
    "\n",
    "In addition to finding the optimal hyperplane, SVMs can also handle non-linearly separable data by using a kernel trick. This technique maps the input features into a higher-dimensional space, where they might become linearly separable. The SVM algorithm then finds the optimal hyperplane in this transformed feature space, which corresponds to a non-linear decision boundary in the original feature space.\n",
    "\n",
    "Linear SVMs have been widely used in many applications, including text classification, image classification, and bioinformatics. They have the advantage of being computationally efficient and easy to interpret. However, they may not perform well in highly non-linearly separable datasets, where non-linear SVMs may be a better choice."
   ]
  },
  {
   "attachments": {},
   "cell_type": "markdown",
   "metadata": {},
   "source": [
    "## Code "
   ]
  },
  {
   "cell_type": "code",
   "execution_count": 14,
   "metadata": {},
   "outputs": [],
   "source": [
    "import numpy as np  # 导入numpy库用于数值计算 / Import numpy for numerical computations\n",
    "\n",
    "class SVM:  # 梯度下降SVM类 / Gradient Descent SVM class\n",
    "    def __init__(self, learning_rate=0.001, lambda_param=0.01, n_iters=1000):  # 初始化函数 / Initialization function\n",
    "        self.lr = learning_rate  # 学习率 / Learning rate\n",
    "        self.lambda_param = lambda_param  # 正则化参数 / Regularization parameter\n",
    "        self.n_iters = n_iters  # 迭代次数 / Number of iterations\n",
    "        self.w = None  # 权重向量 / Weight vector\n",
    "        self.b = None  # 偏置项 / Bias term\n",
    "\n",
    "    def fit(self, X, y):  # 训练函数 / Training function\n",
    "        n_samples, n_features = X.shape  # 获取样本数和特征数 / Get number of samples and features\n",
    "        y_ = np.where(y <= 0, -1, 1)  # 将标签转换为-1和1 / Convert labels to -1 and 1\n",
    "        self.w = np.zeros(n_features)  # 初始化权重向量为零 / Initialize weight vector to zeros\n",
    "        self.b = 0  # 初始化偏置项为零 / Initialize bias to zero\n",
    "\n",
    "        # Gradient descent for SVM (Hinge Loss)\n",
    "        # SVM的梯度下降（合页损失） / Gradient descent for SVM (Hinge Loss)\n",
    "        for _ in range(self.n_iters):  # 迭代训练 / Iterative training\n",
    "            for idx, x_i in enumerate(X):  # 遍历每个样本 / Iterate through each sample\n",
    "                condition = y_[idx] * (np.dot(x_i, self.w) - self.b) >= 1  # 检查是否满足间隔条件 / Check if margin condition is satisfied\n",
    "                if condition:  # 如果满足间隔条件 / If margin condition is satisfied\n",
    "                    # Correct gradient for regularization term\n",
    "                    # 正则化项的正确梯度 / Correct gradient for regularization term\n",
    "                    self.w -= self.lr * (2 * self.lambda_param * self.w)  # 更新权重（仅正则化项） / Update weights (regularization only)\n",
    "                else:  # 如果不满足间隔条件 / If margin condition is not satisfied\n",
    "                    # Correct gradient for hinge loss\n",
    "                    # 合页损失的正确梯度 / Correct gradient for hinge loss\n",
    "                    self.w -= self.lr * (2 * self.lambda_param * self.w - y_[idx] * x_i)  # 更新权重（正则化+损失） / Update weights (regularization + loss)\n",
    "                    self.b -= self.lr * y_[idx]  # 更新偏置 / Update bias\n",
    "\n",
    "    def predict(self, X):  # 预测函数 / Prediction function\n",
    "        linear_output = np.dot(X, self.w) - self.b  # 计算线性输出 / Calculate linear output\n",
    "        return np.sign(linear_output)  # 返回符号作为预测结果 / Return sign as prediction result\n",
    "\n",
    "\n"
   ]
  },
  {
   "cell_type": "code",
   "execution_count": 15,
   "metadata": {},
   "outputs": [
    {
     "name": "stdout",
     "output_type": "stream",
     "text": [
      "Accuracy: 1.0\n"
     ]
    }
   ],
   "source": [
    "# Example usage\n",
    "# 示例用法 / Example usage\n",
    "from sklearn import datasets  # 导入sklearn数据集模块 / Import sklearn datasets module\n",
    "from sklearn.model_selection import train_test_split  # 导入训练测试分割模块 / Import train-test split module\n",
    "from sklearn.metrics import accuracy_score  # 导入准确率评估模块 / Import accuracy score module\n",
    "\n",
    "X, y = datasets.make_blobs(n_samples=100, centers=2, random_state=42)  # 生成2维聚类数据 / Generate 2D cluster data\n",
    "y = np.where(y == 0, -1, 1)  # 将标签转换为-1和1 / Convert labels to -1 and 1\n",
    "\n",
    "X_train, X_test, y_train, y_test = train_test_split(X, y, test_size=0.2, random_state=42)  # 分割训练和测试集 / Split into train and test sets\n",
    "\n",
    "svm = SVM()  # 创建SVM实例 / Create SVM instance\n",
    "svm.fit(X_train, y_train)  # 训练模型 / Train the model\n",
    "y_pred = svm.predict(X_test)  # 进行预测 / Make predictions\n",
    "\n",
    "\n",
    "# Evaluate model\n",
    "# 评估模型 / Evaluate model\n",
    "accuracy = accuracy_score(y_test, y_pred)  # 计算准确率 / Calculate accuracy\n",
    "print(\"Accuracy:\", accuracy)  # 打印准确率 / Print accuracy"
   ]
  },
  {
   "cell_type": "code",
   "execution_count": 16,
   "metadata": {},
   "outputs": [
    {
     "name": "stdout",
     "output_type": "stream",
     "text": [
      "Accuracy: 0.5\n"
     ]
    }
   ],
   "source": [
    "# Generate data\n",
    "# 生成数据 / Generate data\n",
    "from sklearn.datasets import make_classification  # 导入分类数据生成模块 / Import classification data generation module\n",
    "\n",
    "X, y = make_classification(n_features=5, n_samples=100, n_informative=5, n_redundant=0, n_classes=2, random_state=1)  # 生成5维分类数据 / Generate 5D classification data\n",
    "X_train, X_test, y_train, y_test = train_test_split(X, y, test_size=0.2, random_state=1)  # 分割训练和测试集 / Split into train and test sets\n",
    "\n",
    "# Initialize SVM model\n",
    "# 初始化SVM模型 / Initialize SVM model\n",
    "svm = SVM()  # 创建SVM实例 / Create SVM instance\n",
    "\n",
    "# Train model\n",
    "# 训练模型 / Train model\n",
    "svm.fit(X_train, y_train)  # 训练SVM模型 / Train SVM model\n",
    "\n",
    "# Make predictions\n",
    "# 进行预测 / Make predictions\n",
    "y_pred = svm.predict(X_test)  # 预测测试集 / Predict on test set\n",
    "\n",
    "# Evaluate model\n",
    "# 评估模型 / Evaluate model\n",
    "accuracy = accuracy_score(y_test, y_pred)  # 计算准确率 / Calculate accuracy\n",
    "print(\"Accuracy:\", accuracy)  # 打印准确率 / Print accuracy"
   ]
  },
  {
   "cell_type": "code",
   "execution_count": 17,
   "metadata": {},
   "outputs": [
    {
     "name": "stdout",
     "output_type": "stream",
     "text": [
      "Testing Gradient Descent SVM:\n",
      "测试梯度下降SVM:\n",
      "Gradient Descent SVM Accuracy: 0.500\n",
      "\n",
      "Testing Quadratic Programming SVM:\n",
      "测试二次规划SVM:\n",
      "Quadratic Programming SVM Accuracy: 0.500\n",
      "Number of support vectors: 19\n"
     ]
    }
   ],
   "source": [
    "# Compare both implementations\n",
    "# 比较两种实现 / Compare both implementations\n",
    "print(\"Testing Gradient Descent SVM:\")  # 打印测试信息 / Print testing information\n",
    "print(\"测试梯度下降SVM:\")  # 中文测试信息 / Chinese testing information\n",
    "svm_gd = SVM(learning_rate=0.001, lambda_param=0.01, n_iters=1000)  # 创建梯度下降SVM实例 / Create gradient descent SVM instance\n",
    "svm_gd.fit(X_train, y_train)  # 训练梯度下降SVM / Train gradient descent SVM\n",
    "y_pred_gd = svm_gd.predict(X_test)  # 预测测试集 / Predict on test set\n",
    "accuracy_gd = accuracy_score(y_test, y_pred_gd)  # 计算准确率 / Calculate accuracy\n",
    "print(f\"Gradient Descent SVM Accuracy: {accuracy_gd:.3f}\")  # 打印梯度下降SVM准确率 / Print gradient descent SVM accuracy\n",
    "\n",
    "print(\"\\nTesting Quadratic Programming SVM:\")  # 打印二次规划SVM测试信息 / Print QP SVM testing information\n",
    "print(\"测试二次规划SVM:\")  # 中文测试信息 / Chinese testing information\n",
    "try:  # 尝试执行二次规划SVM / Try to execute QP SVM\n",
    "    svm_qp = SVM_QP(C=1.0)  # 创建二次规划SVM实例 / Create QP SVM instance\n",
    "    svm_qp.fit(X_train, y_train)  # 训练二次规划SVM / Train QP SVM\n",
    "    y_pred_qp = svm_qp.predict(X_test)  # 预测测试集 / Predict on test set\n",
    "    accuracy_qp = accuracy_score(y_test, y_pred_qp)  # 计算准确率 / Calculate accuracy\n",
    "    print(f\"Quadratic Programming SVM Accuracy: {accuracy_qp:.3f}\")  # 打印二次规划SVM准确率 / Print QP SVM accuracy\n",
    "    print(f\"Number of support vectors: {len(svm_qp.support_vectors)}\")  # 打印支持向量数量 / Print number of support vectors\n",
    "except ImportError:  # 如果导入错误 / If import error\n",
    "    print(\"cvxopt not available. Install with: pip install cvxopt\")  # 打印安装提示 / Print installation hint\n",
    "    print(\"cvxopt不可用。请使用 pip install cvxopt 安装\")  # 中文安装提示 / Chinese installation hint\n",
    "except Exception as e:  # 如果其他异常 / If other exception\n",
    "    print(f\"QP SVM failed: {e}\")  # 打印错误信息 / Print error message\n",
    "    print(f\"二次规划SVM失败: {e}\")  # 中文错误信息 / Chinese error message\n"
   ]
  }
 ],
 "metadata": {
  "kernelspec": {
   "display_name": "cyclegan",
   "language": "python",
   "name": "python3"
  },
  "language_info": {
   "codemirror_mode": {
    "name": "ipython",
    "version": 3
   },
   "file_extension": ".py",
   "mimetype": "text/x-python",
   "name": "python",
   "nbconvert_exporter": "python",
   "pygments_lexer": "ipython3",
   "version": "3.8.20"
  },
  "orig_nbformat": 4
 },
 "nbformat": 4,
 "nbformat_minor": 2
}
